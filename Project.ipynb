{
 "cells": [
  {
   "cell_type": "code",
   "execution_count": null,
   "metadata": {
    "scrolled": false
   },
   "outputs": [],
   "source": [
    "import numpy as npy\n",
    "import pandas as pds\n",
    "import matplotlib.pyplot as mplt\n",
    "import seaborn as sbn\n",
    "from fancyimpute import KNN\n",
    "from sklearn.preprocessing import StandardScaler as stl\n",
    "%matplotlib inline\n",
    "\n",
    "train_data = pds.read_csv('trainData.csv')\n",
    "test_data = pds.read_csv('testData.csv')\n",
    "my_data = pds.concat([train_data, test_data], axis = 0)\n",
    "my_data.describe()"
   ]
  },
  {
   "cell_type": "code",
   "execution_count": null,
   "metadata": {},
   "outputs": [],
   "source": [
    "duplicate_data = my_data[my_data.duplicated()]\n",
    "duplicate_data.head()"
   ]
  },
  {
   "cell_type": "code",
   "execution_count": null,
   "metadata": {},
   "outputs": [],
   "source": [
    "print(my_data.shape)"
   ]
  },
  {
   "cell_type": "code",
   "execution_count": null,
   "metadata": {
    "scrolled": true
   },
   "outputs": [],
   "source": [
    "my_data.isna().sum()"
   ]
  },
  {
   "cell_type": "code",
   "execution_count": null,
   "metadata": {},
   "outputs": [],
   "source": [
    "my_data.isna()"
   ]
  },
  {
   "cell_type": "code",
   "execution_count": null,
   "metadata": {},
   "outputs": [],
   "source": [
    "#my_data = KNN(k=5).fit_transform(my_data)\n",
    "#npy.savetxt('value.csv', my_data, delimiter=',', fmt='%0.1f', newline='\\n')"
   ]
  },
  {
   "cell_type": "code",
   "execution_count": null,
   "metadata": {},
   "outputs": [],
   "source": [
    "mplt.cla()\n",
    "mplt.clf()\n",
    "figure = mplt.figure(figsize = (15,20))\n",
    "axes = figure.gca()\n",
    "my_data.hist(ax = axes)\n",
    "#mplt.savefig('histimg.png')"
   ]
  },
  {
   "cell_type": "code",
   "execution_count": null,
   "metadata": {},
   "outputs": [],
   "source": [
    "from sklearn.feature_selection import SelectKBest as skb\n",
    "from sklearn.feature_selection import chi2\n",
    "\n",
    "attributes = my_data.iloc[:,0:15]\n",
    "target_class = my_data.iloc[:,-1]\n",
    "\n",
    "obj = skb(score_func=chi2)\n",
    "values = obj.fit(attributes,target_class)\n",
    "data_scores = pds.DataFrame(values.scores_)\n",
    "data_columns = pds.DataFrame(attributes.columns)\n",
    "\n",
    "attributes_scores = pds.concat([data_columns,data_scores],axis=1)\n",
    "attributes_scores.columns = ['Name','Score']\n",
    "attributes_scores = attributes_scores.sort_values(by='Score', ascending = False)\n",
    "attributes_scores\n",
    "#final_attributes = skb(chi2, k=10).fit_transform(attributes, target_class)\n",
    "#print(final_attributes.shape,' ',final_attributes[0:10])"
   ]
  },
  {
   "cell_type": "code",
   "execution_count": null,
   "metadata": {},
   "outputs": [],
   "source": [
    "mplt.cla()\n",
    "mplt.clf()\n",
    "mplt.figure(figsize=(5,10))\n",
    "sbn.barplot(x='Score', y='Name', data=attributes_scores)\n",
    "#mplt.box(False)\n",
    "#mplt.grid(True)\n",
    "mplt.title('Feature importance', fontsize=18)\n",
    "mplt.xlabel('Importance\\n ', fontsize=15)\n",
    "mplt.ylabel('Features \\n', fontsize=15)\n",
    "mplt.rc('axes', labelsize=10)\n",
    "mplt.show()"
   ]
  },
  {
   "cell_type": "code",
   "execution_count": null,
   "metadata": {
    "scrolled": false
   },
   "outputs": [],
   "source": [
    "mplt.cla()\n",
    "mplt.clf()\n",
    "corrmat = my_data.corr()\n",
    "c = pds.DataFrame(corrmat.iloc[:,-1])\n",
    "print(c.sort_values(by = 'TenYearCHD', ascending = False))\n",
    "mplt.figure(figsize=(2,15))\n",
    "sbn.heatmap(c.sort_values(by = 'TenYearCHD', ascending = False), annot = True, fmt = '.2g')\n",
    "mplt.savefig('featureCorre.png')"
   ]
  },
  {
   "cell_type": "code",
   "execution_count": null,
   "metadata": {
    "scrolled": true
   },
   "outputs": [],
   "source": [
    "my_data2 = my_data[['sysBP', 'glucose', 'age', 'totChol', 'cigsPerDay', 'diaBP', 'prevalentHyp', 'diabetes', 'BPMeds', 'male', 'TenYearCHD']]\n",
    "my_data2.head(10)"
   ]
  },
  {
   "cell_type": "code",
   "execution_count": null,
   "metadata": {},
   "outputs": [],
   "source": [
    "mplt.cla()\n",
    "mplt.clf()\n",
    "sbn.pairplot(my_data2)\n",
    "#mplt.savefig('pairplot.png')"
   ]
  },
  {
   "cell_type": "code",
   "execution_count": null,
   "metadata": {},
   "outputs": [],
   "source": [
    "mplt.cla()\n",
    "mplt.clf()\n",
    "for y in my_data2.columns:\n",
    "    sbn.boxplot(x = 'TenYearCHD', y = y, data = my_data2, linewidth = 2.5)\n",
    "    #mplt.savefig('EMG {0}.png'.format(y))\n",
    "    mplt.show()"
   ]
  },
  {
   "cell_type": "code",
   "execution_count": null,
   "metadata": {},
   "outputs": [],
   "source": [
    "mplt.cla()\n",
    "mplt.clf()\n",
    "#my_data2[my_data2.totChol>500]\n",
    "my_data2 = my_data2[my_data2.totChol<500]\n",
    "sbn.boxplot(x = 'TenYearCHD', y = 'totChol', data = my_data2)\n",
    "#mplt.savefig('EMG totChol2.png')"
   ]
  },
  {
   "cell_type": "code",
   "execution_count": null,
   "metadata": {},
   "outputs": [],
   "source": [
    "mplt.cla()\n",
    "mplt.clf()\n",
    "#my_data2[my_data2.sysBP>290]\n",
    "my_data2 = my_data2[my_data2.sysBP<290]\n",
    "sbn.boxplot(x = 'TenYearCHD', y = 'sysBP', data = my_data2)\n",
    "#mplt.savefig('EMG sysBP2.png')"
   ]
  },
  {
   "cell_type": "code",
   "execution_count": null,
   "metadata": {},
   "outputs": [],
   "source": [
    "mplt.cla()\n",
    "mplt.clf()\n",
    "#my_data2[my_data2.cigsPerDay>65]\n",
    "my_data2 = my_data2[my_data2.cigsPerDay<65]\n",
    "sbn.boxplot(x = 'TenYearCHD', y = 'cigsPerDay', data = my_data2)\n",
    "mplt.savefig('EMG cigsPerDay2.png')"
   ]
  },
  {
   "cell_type": "code",
   "execution_count": null,
   "metadata": {},
   "outputs": [],
   "source": [
    "'''from sklearn.preprocessing import MinMaxScaler\n",
    "\n",
    "scaler_obj = MinMaxScaler()\n",
    "scaled_data = scaler_obj.fit_transform(my_data2)\n",
    "scaled_data = pds.DataFrame(scaled_data, columns = my_data2.columns)\n",
    "scaled_data.describe()'''"
   ]
  },
  {
   "cell_type": "code",
   "execution_count": null,
   "metadata": {},
   "outputs": [],
   "source": [
    "class_value = my_data2.iloc[:,-1]\n",
    "attributes = my_data2.iloc[:,0:10]"
   ]
  },
  {
   "cell_type": "code",
   "execution_count": null,
   "metadata": {},
   "outputs": [],
   "source": [
    "'''from sklearn.model_selection import train_test_split\n",
    "train_input, test_input, train_label, test_label = train_test_split(attributes, class_value, test_size=0.20, random_state = 0)'''"
   ]
  },
  {
   "cell_type": "code",
   "execution_count": null,
   "metadata": {},
   "outputs": [],
   "source": [
    "train_input = train_data.iloc[:,0:10]\n",
    "train_label = train_data.iloc[:,-1]\n",
    "test_input = test_data.iloc[:,0:10]\n",
    "test_label = test_data.iloc[:,-1]"
   ]
  },
  {
   "cell_type": "code",
   "execution_count": null,
   "metadata": {},
   "outputs": [],
   "source": [
    "from sklearn.linear_model import LogisticRegression\n",
    "logistic_model = LogisticRegression(solver = 'liblinear')\n",
    "logistic_model.fit(train_input, train_label)\n",
    "logistic_predicts = logistic_model.predict(test_input)"
   ]
  },
  {
   "cell_type": "code",
   "execution_count": null,
   "metadata": {},
   "outputs": [],
   "source": [
    "accuracy = logistic_model.score(test_input, test_label)\n",
    "accuracyt = logistic_model.score(train_input, train_label)\n",
    "print('Logistic Regression \\nTest accuracy : ', accuracy, '\\nTrain accuracy : ', accuracyt)"
   ]
  },
  {
   "cell_type": "code",
   "execution_count": null,
   "metadata": {},
   "outputs": [],
   "source": [
    "from sklearn.metrics import confusion_matrix\n",
    "mplt.cla()\n",
    "mplt.clf()\n",
    "#mplt.figure(figsize = (8,4))\n",
    "cm = confusion_matrix(test_label, logistic_predicts)\n",
    "print(cm)\n",
    "sbn.heatmap(cm, annot = True, fmt = 'd')"
   ]
  },
  {
   "cell_type": "code",
   "execution_count": null,
   "metadata": {},
   "outputs": [],
   "source": [
    "from sklearn.neighbors import KNeighborsClassifier\n",
    "\n",
    "k1_model = KNeighborsClassifier(n_neighbors = 1, metric = 'chebyshev').fit(train_input, train_label)\n",
    "k5_model = KNeighborsClassifier(n_neighbors = 5, metric = 'chebyshev').fit(train_input, train_label)\n",
    "k10_model = KNeighborsClassifier(n_neighbors = 10, metric = 'chebyshev').fit(train_input, train_label)\n",
    "\n",
    "k1_predicts = k1_model.predict(test_input)\n",
    "k5_predicts = k5_model.predict(test_input)\n",
    "k10_predicts = k10_model.predict(test_input)"
   ]
  },
  {
   "cell_type": "code",
   "execution_count": null,
   "metadata": {},
   "outputs": [],
   "source": [
    "accu_knn1 = k1_model.score(test_input, test_label)\n",
    "accu_knn5 = k5_model.score(test_input, test_label)\n",
    "accu_knn10 = k10_model.score(test_input, test_label)\n",
    "print('Test accuracy \\nKNN 1 : ', accu_knn1, '\\nKNN 5 : ', accu_knn5, '\\nKNN 10 : ', accu_knn10)"
   ]
  },
  {
   "cell_type": "code",
   "execution_count": null,
   "metadata": {},
   "outputs": [],
   "source": [
    "accut_knn1 = k1_model.score(train_input, train_label)\n",
    "accut_knn5 = k5_model.score(train_input, train_label)\n",
    "accut_knn10 = k10_model.score(train_input, train_label)\n",
    "print('Train accuracy \\nKNN 1 : ', accut_knn1, '\\nKNN 5 : ', accut_knn5, '\\nKNN 10 : ', accut_knn10)"
   ]
  },
  {
   "cell_type": "code",
   "execution_count": null,
   "metadata": {},
   "outputs": [],
   "source": [
    "mplt.cla()\n",
    "mplt.clf()\n",
    "cm = confusion_matrix(test_label, k5_predicts)\n",
    "print(cm)\n",
    "sbn.heatmap(cm, annot = True, fmt = 'd')"
   ]
  },
  {
   "cell_type": "code",
   "execution_count": null,
   "metadata": {},
   "outputs": [],
   "source": [
    "from sklearn.svm import SVC\n",
    "\n",
    "svm_model = SVC(kernel = 'linear')\n",
    "\n",
    "svm_model.fit(train_input, train_label)\n",
    "svm_predicts = svm_model.predict(test_input)"
   ]
  },
  {
   "cell_type": "code",
   "execution_count": null,
   "metadata": {},
   "outputs": [],
   "source": [
    "accu_svm = svm_model.score(test_input, test_label)\n",
    "accut_svm = svm_model.score(train_input, train_label)\n",
    "print('Support Vector Models \\nTrain accuracy : ', accut_svm, '\\nTest accuracy : ', accu_svm)"
   ]
  },
  {
   "cell_type": "code",
   "execution_count": null,
   "metadata": {},
   "outputs": [],
   "source": [
    "mplt.cla()\n",
    "mplt.clf()\n",
    "cm = confusion_matrix(test_label, svm_predicts)\n",
    "print(cm)\n",
    "sbn.heatmap(cm, annot = True, fmt = 'd')"
   ]
  },
  {
   "cell_type": "code",
   "execution_count": null,
   "metadata": {},
   "outputs": [],
   "source": [
    "from sklearn.naive_bayes import GaussianNB\n",
    "\n",
    "nb_model = GaussianNB()\n",
    "nb_model.fit(train_input, train_label)\n",
    "\n",
    "nb_predicts = nb_model.predict(test_input)\n",
    "accu_nb = nb_model.score(test_input, test_label)\n",
    "accut_nb = nb_model.score(train_input, train_label)\n",
    "print('Naive Bayes \\nTrain accuracy : ', accut_nb, '\\nTest accuracy : ', accu_nb)"
   ]
  },
  {
   "cell_type": "code",
   "execution_count": null,
   "metadata": {},
   "outputs": [],
   "source": [
    "mplt.cla()\n",
    "mplt.clf()\n",
    "cm = confusion_matrix(test_label, nb_predicts)\n",
    "print(cm)\n",
    "sbn.heatmap(cm, annot = True, fmt = 'd')"
   ]
  },
  {
   "cell_type": "code",
   "execution_count": null,
   "metadata": {},
   "outputs": [],
   "source": [
    "from sklearn.tree import DecisionTreeClassifier\n",
    "\n",
    "DTC_model = DecisionTreeClassifier(criterion = 'entropy', max_depth = 4)\n",
    "DTC_model.fit(train_input, train_label)\n",
    "DTC_predicts = DTC_model.predict(test_input)\n",
    "accu_dtc = DTC_model.score(test_input, test_label)\n",
    "accut_dtc = DTC_model.score(train_input, train_label)\n",
    "print('Decision Tree\\nTrain accuracy : ', accu_dtc, '\\nTest accuracy : ', accut_dtc)"
   ]
  },
  {
   "cell_type": "code",
   "execution_count": null,
   "metadata": {},
   "outputs": [],
   "source": [
    "mplt.cla()\n",
    "mplt.clf()\n",
    "cm = confusion_matrix(test_label, DTC_predicts)\n",
    "print(cm)\n",
    "sbn.heatmap(cm, annot = True, fmt = 'd')"
   ]
  },
  {
   "cell_type": "code",
   "execution_count": null,
   "metadata": {},
   "outputs": [],
   "source": [
    "from sklearn import tree\n",
    "tree.plot_tree(DTC_model.fit(train_input, train_label))"
   ]
  },
  {
   "cell_type": "code",
   "execution_count": null,
   "metadata": {},
   "outputs": [],
   "source": []
  }
 ],
 "metadata": {
  "kernelspec": {
   "display_name": "Python 3",
   "language": "python",
   "name": "python3"
  },
  "language_info": {
   "codemirror_mode": {
    "name": "ipython",
    "version": 3
   },
   "file_extension": ".py",
   "mimetype": "text/x-python",
   "name": "python",
   "nbconvert_exporter": "python",
   "pygments_lexer": "ipython3",
   "version": "3.7.5"
  }
 },
 "nbformat": 4,
 "nbformat_minor": 2
}
