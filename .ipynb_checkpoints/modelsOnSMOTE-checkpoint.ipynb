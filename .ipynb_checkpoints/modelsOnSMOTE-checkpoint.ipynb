{
 "cells": [
  {
   "cell_type": "code",
   "execution_count": 1,
   "metadata": {},
   "outputs": [
    {
     "data": {
      "text/html": [
       "<div>\n",
       "<style scoped>\n",
       "    .dataframe tbody tr th:only-of-type {\n",
       "        vertical-align: middle;\n",
       "    }\n",
       "\n",
       "    .dataframe tbody tr th {\n",
       "        vertical-align: top;\n",
       "    }\n",
       "\n",
       "    .dataframe thead th {\n",
       "        text-align: right;\n",
       "    }\n",
       "</style>\n",
       "<table border=\"1\" class=\"dataframe\">\n",
       "  <thead>\n",
       "    <tr style=\"text-align: right;\">\n",
       "      <th></th>\n",
       "      <th>male</th>\n",
       "      <th>age</th>\n",
       "      <th>education</th>\n",
       "      <th>currentSmoker</th>\n",
       "      <th>cigsPerDay</th>\n",
       "      <th>BPMeds</th>\n",
       "      <th>prevalentStroke</th>\n",
       "      <th>prevalentHyp</th>\n",
       "      <th>diabetes</th>\n",
       "      <th>totChol</th>\n",
       "      <th>sysBP</th>\n",
       "      <th>diaBP</th>\n",
       "      <th>BMI</th>\n",
       "      <th>heartRate</th>\n",
       "      <th>glucose</th>\n",
       "      <th>TenYearCHD</th>\n",
       "    </tr>\n",
       "  </thead>\n",
       "  <tbody>\n",
       "    <tr>\n",
       "      <th>count</th>\n",
       "      <td>5668.000000</td>\n",
       "      <td>5668.000000</td>\n",
       "      <td>5668.000000</td>\n",
       "      <td>5668.000000</td>\n",
       "      <td>5668.000000</td>\n",
       "      <td>5668.000000</td>\n",
       "      <td>5668.000000</td>\n",
       "      <td>5668.000000</td>\n",
       "      <td>5668.000000</td>\n",
       "      <td>5668.000000</td>\n",
       "      <td>5668.000000</td>\n",
       "      <td>5668.000000</td>\n",
       "      <td>5668.000000</td>\n",
       "      <td>5668.000000</td>\n",
       "      <td>5668.000000</td>\n",
       "      <td>5668.000000</td>\n",
       "    </tr>\n",
       "    <tr>\n",
       "      <th>mean</th>\n",
       "      <td>0.468596</td>\n",
       "      <td>51.271877</td>\n",
       "      <td>1.942308</td>\n",
       "      <td>0.494001</td>\n",
       "      <td>9.438956</td>\n",
       "      <td>0.044989</td>\n",
       "      <td>0.013232</td>\n",
       "      <td>0.379323</td>\n",
       "      <td>0.041461</td>\n",
       "      <td>240.306263</td>\n",
       "      <td>136.711150</td>\n",
       "      <td>84.714591</td>\n",
       "      <td>26.128176</td>\n",
       "      <td>76.094742</td>\n",
       "      <td>84.936538</td>\n",
       "      <td>0.494707</td>\n",
       "    </tr>\n",
       "    <tr>\n",
       "      <th>std</th>\n",
       "      <td>0.499057</td>\n",
       "      <td>8.315552</td>\n",
       "      <td>0.968731</td>\n",
       "      <td>0.500008</td>\n",
       "      <td>12.010185</td>\n",
       "      <td>0.207299</td>\n",
       "      <td>0.114278</td>\n",
       "      <td>0.485261</td>\n",
       "      <td>0.199371</td>\n",
       "      <td>45.090817</td>\n",
       "      <td>24.161886</td>\n",
       "      <td>12.603934</td>\n",
       "      <td>3.941600</td>\n",
       "      <td>11.574664</td>\n",
       "      <td>30.923002</td>\n",
       "      <td>0.500016</td>\n",
       "    </tr>\n",
       "    <tr>\n",
       "      <th>min</th>\n",
       "      <td>0.000000</td>\n",
       "      <td>32.000000</td>\n",
       "      <td>1.000000</td>\n",
       "      <td>0.000000</td>\n",
       "      <td>0.000000</td>\n",
       "      <td>0.000000</td>\n",
       "      <td>0.000000</td>\n",
       "      <td>0.000000</td>\n",
       "      <td>0.000000</td>\n",
       "      <td>107.000000</td>\n",
       "      <td>83.500000</td>\n",
       "      <td>48.000000</td>\n",
       "      <td>15.500000</td>\n",
       "      <td>44.000000</td>\n",
       "      <td>40.000000</td>\n",
       "      <td>0.000000</td>\n",
       "    </tr>\n",
       "    <tr>\n",
       "      <th>25%</th>\n",
       "      <td>0.000000</td>\n",
       "      <td>44.000000</td>\n",
       "      <td>1.000000</td>\n",
       "      <td>0.000000</td>\n",
       "      <td>0.000000</td>\n",
       "      <td>0.000000</td>\n",
       "      <td>0.000000</td>\n",
       "      <td>0.000000</td>\n",
       "      <td>0.000000</td>\n",
       "      <td>210.000000</td>\n",
       "      <td>120.000000</td>\n",
       "      <td>76.000000</td>\n",
       "      <td>23.500000</td>\n",
       "      <td>68.000000</td>\n",
       "      <td>72.800000</td>\n",
       "      <td>0.000000</td>\n",
       "    </tr>\n",
       "    <tr>\n",
       "      <th>50%</th>\n",
       "      <td>0.000000</td>\n",
       "      <td>51.000000</td>\n",
       "      <td>2.000000</td>\n",
       "      <td>0.000000</td>\n",
       "      <td>2.000000</td>\n",
       "      <td>0.000000</td>\n",
       "      <td>0.000000</td>\n",
       "      <td>0.000000</td>\n",
       "      <td>0.000000</td>\n",
       "      <td>237.400000</td>\n",
       "      <td>132.000000</td>\n",
       "      <td>83.000000</td>\n",
       "      <td>25.700000</td>\n",
       "      <td>75.000000</td>\n",
       "      <td>79.000000</td>\n",
       "      <td>0.000000</td>\n",
       "    </tr>\n",
       "    <tr>\n",
       "      <th>75%</th>\n",
       "      <td>1.000000</td>\n",
       "      <td>58.000000</td>\n",
       "      <td>3.000000</td>\n",
       "      <td>1.000000</td>\n",
       "      <td>20.000000</td>\n",
       "      <td>0.000000</td>\n",
       "      <td>0.000000</td>\n",
       "      <td>1.000000</td>\n",
       "      <td>0.000000</td>\n",
       "      <td>266.000000</td>\n",
       "      <td>149.000000</td>\n",
       "      <td>91.800000</td>\n",
       "      <td>28.225000</td>\n",
       "      <td>83.000000</td>\n",
       "      <td>87.225000</td>\n",
       "      <td>1.000000</td>\n",
       "    </tr>\n",
       "    <tr>\n",
       "      <th>max</th>\n",
       "      <td>1.000000</td>\n",
       "      <td>70.000000</td>\n",
       "      <td>4.000000</td>\n",
       "      <td>1.000000</td>\n",
       "      <td>70.000000</td>\n",
       "      <td>1.000000</td>\n",
       "      <td>1.000000</td>\n",
       "      <td>1.000000</td>\n",
       "      <td>1.000000</td>\n",
       "      <td>696.000000</td>\n",
       "      <td>295.000000</td>\n",
       "      <td>142.500000</td>\n",
       "      <td>56.800000</td>\n",
       "      <td>143.000000</td>\n",
       "      <td>394.000000</td>\n",
       "      <td>1.000000</td>\n",
       "    </tr>\n",
       "  </tbody>\n",
       "</table>\n",
       "</div>"
      ],
      "text/plain": [
       "              male          age    education  currentSmoker   cigsPerDay  \\\n",
       "count  5668.000000  5668.000000  5668.000000    5668.000000  5668.000000   \n",
       "mean      0.468596    51.271877     1.942308       0.494001     9.438956   \n",
       "std       0.499057     8.315552     0.968731       0.500008    12.010185   \n",
       "min       0.000000    32.000000     1.000000       0.000000     0.000000   \n",
       "25%       0.000000    44.000000     1.000000       0.000000     0.000000   \n",
       "50%       0.000000    51.000000     2.000000       0.000000     2.000000   \n",
       "75%       1.000000    58.000000     3.000000       1.000000    20.000000   \n",
       "max       1.000000    70.000000     4.000000       1.000000    70.000000   \n",
       "\n",
       "            BPMeds  prevalentStroke  prevalentHyp     diabetes      totChol  \\\n",
       "count  5668.000000      5668.000000   5668.000000  5668.000000  5668.000000   \n",
       "mean      0.044989         0.013232      0.379323     0.041461   240.306263   \n",
       "std       0.207299         0.114278      0.485261     0.199371    45.090817   \n",
       "min       0.000000         0.000000      0.000000     0.000000   107.000000   \n",
       "25%       0.000000         0.000000      0.000000     0.000000   210.000000   \n",
       "50%       0.000000         0.000000      0.000000     0.000000   237.400000   \n",
       "75%       0.000000         0.000000      1.000000     0.000000   266.000000   \n",
       "max       1.000000         1.000000      1.000000     1.000000   696.000000   \n",
       "\n",
       "             sysBP        diaBP          BMI    heartRate      glucose  \\\n",
       "count  5668.000000  5668.000000  5668.000000  5668.000000  5668.000000   \n",
       "mean    136.711150    84.714591    26.128176    76.094742    84.936538   \n",
       "std      24.161886    12.603934     3.941600    11.574664    30.923002   \n",
       "min      83.500000    48.000000    15.500000    44.000000    40.000000   \n",
       "25%     120.000000    76.000000    23.500000    68.000000    72.800000   \n",
       "50%     132.000000    83.000000    25.700000    75.000000    79.000000   \n",
       "75%     149.000000    91.800000    28.225000    83.000000    87.225000   \n",
       "max     295.000000   142.500000    56.800000   143.000000   394.000000   \n",
       "\n",
       "        TenYearCHD  \n",
       "count  5668.000000  \n",
       "mean      0.494707  \n",
       "std       0.500016  \n",
       "min       0.000000  \n",
       "25%       0.000000  \n",
       "50%       0.000000  \n",
       "75%       1.000000  \n",
       "max       1.000000  "
      ]
     },
     "execution_count": 1,
     "metadata": {},
     "output_type": "execute_result"
    }
   ],
   "source": [
    "import numpy as npy\n",
    "import pandas as pds\n",
    "import matplotlib.pyplot as mplt\n",
    "import seaborn as sbn\n",
    "%matplotlib inline\n",
    "\n",
    "train_data = pds.read_csv('trainDataSMOTE.csv')\n",
    "train_data.describe()"
   ]
  },
  {
   "cell_type": "code",
   "execution_count": 2,
   "metadata": {},
   "outputs": [],
   "source": [
    "train_inputs = train_data.iloc[:,0:15]\n",
    "train_label = train_data.iloc[:,-1]"
   ]
  },
  {
   "cell_type": "code",
   "execution_count": 3,
   "metadata": {},
   "outputs": [],
   "source": [
    "test_data = pds.read_csv('testData.csv')\n",
    "test_inputs = test_data.iloc[:,0:15]\n",
    "test_label = test_data.iloc[:,-1]"
   ]
  },
  {
   "cell_type": "code",
   "execution_count": 4,
   "metadata": {},
   "outputs": [],
   "source": [
    "from sklearn.linear_model import LogisticRegression\n",
    "logistic_model = LogisticRegression(solver = 'liblinear')\n",
    "logistic_model.fit(train_inputs, train_label)\n",
    "logistic_predicts = logistic_model.predict(test_inputs)"
   ]
  },
  {
   "cell_type": "code",
   "execution_count": 5,
   "metadata": {},
   "outputs": [
    {
     "name": "stdout",
     "output_type": "stream",
     "text": [
      "Logistic Regression \n",
      "Test accuracy :  0.6721698113207547 \n",
      "Train accuracy :  0.6707833450952717\n"
     ]
    }
   ],
   "source": [
    "accuracy = logistic_model.score(test_inputs, test_label)\n",
    "accuracyt = logistic_model.score(train_inputs, train_label)\n",
    "print('Logistic Regression \\nTest accuracy : ', accuracy, '\\nTrain accuracy : ', accuracyt)"
   ]
  },
  {
   "cell_type": "code",
   "execution_count": 46,
   "metadata": {},
   "outputs": [],
   "source": [
    "from sklearn.neighbors import KNeighborsClassifier\n",
    "\n",
    "k1_model = KNeighborsClassifier(n_neighbors = 1, metric = 'manhattan').fit(train_inputs, train_label)\n",
    "k5_model = KNeighborsClassifier(n_neighbors = 5, metric = 'manhattan').fit(train_inputs, train_label)\n",
    "k10_model = KNeighborsClassifier(n_neighbors = 10, metric = 'manhattan').fit(train_inputs, train_label)\n",
    "\n",
    "k1_predicts = k1_model.predict(test_inputs)\n",
    "k5_predicts = k5_model.predict(test_inputs)\n",
    "k10_predicts = k10_model.predict(test_inputs)"
   ]
  },
  {
   "cell_type": "code",
   "execution_count": 47,
   "metadata": {},
   "outputs": [
    {
     "name": "stdout",
     "output_type": "stream",
     "text": [
      "Test accuracy \n",
      "KNN 1 :  0.7216981132075472 \n",
      "KNN 5 :  0.6497641509433962 \n",
      "KNN 10 :  0.6662735849056604\n"
     ]
    }
   ],
   "source": [
    "accu_knn1 = k1_model.score(test_inputs, test_label)\n",
    "accu_knn5 = k5_model.score(test_inputs, test_label)\n",
    "accu_knn10 = k10_model.score(test_inputs, test_label)\n",
    "print('Test accuracy \\nKNN 1 : ', accu_knn1, '\\nKNN 5 : ', accu_knn5, '\\nKNN 10 : ', accu_knn10)"
   ]
  },
  {
   "cell_type": "code",
   "execution_count": 48,
   "metadata": {},
   "outputs": [
    {
     "name": "stdout",
     "output_type": "stream",
     "text": [
      "Train accuracy \n",
      "KNN 1 :  1.0 \n",
      "KNN 5 :  0.8847918136908962 \n",
      "KNN 10 :  0.8517995765702188\n"
     ]
    }
   ],
   "source": [
    "accut_knn1 = k1_model.score(train_inputs, train_label)\n",
    "accut_knn5 = k5_model.score(train_inputs, train_label)\n",
    "accut_knn10 = k10_model.score(train_inputs, train_label)\n",
    "print('Train accuracy \\nKNN 1 : ', accut_knn1, '\\nKNN 5 : ', accut_knn5, '\\nKNN 10 : ', accut_knn10)"
   ]
  },
  {
   "cell_type": "code",
   "execution_count": 31,
   "metadata": {},
   "outputs": [],
   "source": [
    "from sklearn.svm import SVC\n",
    "\n",
    "svm_model = SVC(kernel = 'linear')\n",
    "\n",
    "svm_model.fit(train_inputs, train_label)\n",
    "svm_predicts = svm_model.predict(test_inputs)"
   ]
  },
  {
   "cell_type": "code",
   "execution_count": 32,
   "metadata": {},
   "outputs": [
    {
     "name": "stdout",
     "output_type": "stream",
     "text": [
      "Support Vector Models \n",
      "Train accuracy :  0.6688426252646437 \n",
      "Test accuracy :  0.6474056603773585\n"
     ]
    }
   ],
   "source": [
    "accu_svm = svm_model.score(test_inputs, test_label)\n",
    "accut_svm = svm_model.score(train_inputs, train_label)\n",
    "print('Support Vector Models \\nTrain accuracy : ', accut_svm, '\\nTest accuracy : ', accu_svm)"
   ]
  },
  {
   "cell_type": "code",
   "execution_count": 8,
   "metadata": {},
   "outputs": [
    {
     "name": "stdout",
     "output_type": "stream",
     "text": [
      "Naive Bayes \n",
      "Train accuracy :  0.5956245589273113 \n",
      "Test accuracy :  0.8018867924528302\n"
     ]
    }
   ],
   "source": [
    "from sklearn.naive_bayes import GaussianNB\n",
    "\n",
    "nb_model = GaussianNB()\n",
    "nb_model.fit(train_inputs, train_label)\n",
    "\n",
    "nb_predicts = nb_model.predict(test_inputs)\n",
    "accu_nb = nb_model.score(test_inputs, test_label)\n",
    "accut_nb = nb_model.score(train_inputs, train_label)\n",
    "print('Naive Bayes \\nTrain accuracy : ', accut_nb, '\\nTest accuracy : ', accu_nb)"
   ]
  },
  {
   "cell_type": "code",
   "execution_count": 45,
   "metadata": {},
   "outputs": [
    {
     "name": "stdout",
     "output_type": "stream",
     "text": [
      "Decision Tree\n",
      "Train accuracy :  0.6691954834156669 \n",
      "Test accuracy :  0.6780660377358491\n"
     ]
    }
   ],
   "source": [
    "from sklearn.tree import DecisionTreeClassifier\n",
    "\n",
    "DTC_model = DecisionTreeClassifier(criterion = 'entropy', max_depth = 4)\n",
    "DTC_model.fit(train_inputs, train_label)\n",
    "DTC_predicts = DTC_model.predict(test_inputs)\n",
    "accu_dtc = DTC_model.score(test_inputs, test_label)\n",
    "accut_dtc = DTC_model.score(train_inputs, train_label)\n",
    "print('Decision Tree\\nTrain accuracy : ', accut_dtc, '\\nTest accuracy : ', accu_dtc)"
   ]
  },
  {
   "cell_type": "code",
   "execution_count": 49,
   "metadata": {},
   "outputs": [
    {
     "name": "stdout",
     "output_type": "stream",
     "text": [
      "Test accuracy :  0.7653301886792453\n",
      "Train accuracy :  0.7515878616796048\n"
     ]
    }
   ],
   "source": [
    "from sklearn.ensemble import VotingClassifier\n",
    "\n",
    "vc_model = VotingClassifier(estimators=[('1', k10_model), ('2', DTC_model), ('3', nb_model)], voting='soft')\n",
    "vc_model.fit(train_inputs, train_label)\n",
    "print('Test accuracy : ', vc_model.score(test_inputs, test_label))\n",
    "print('Train accuracy : ', vc_model.score(train_inputs, train_label))"
   ]
  },
  {
   "cell_type": "code",
   "execution_count": null,
   "metadata": {},
   "outputs": [],
   "source": []
  }
 ],
 "metadata": {
  "kernelspec": {
   "display_name": "Python 3",
   "language": "python",
   "name": "python3"
  },
  "language_info": {
   "codemirror_mode": {
    "name": "ipython",
    "version": 3
   },
   "file_extension": ".py",
   "mimetype": "text/x-python",
   "name": "python",
   "nbconvert_exporter": "python",
   "pygments_lexer": "ipython3",
   "version": "3.7.5"
  }
 },
 "nbformat": 4,
 "nbformat_minor": 2
}
