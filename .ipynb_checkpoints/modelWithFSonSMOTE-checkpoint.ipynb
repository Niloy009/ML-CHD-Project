{
 "cells": [
  {
   "cell_type": "code",
   "execution_count": 1,
   "metadata": {},
   "outputs": [],
   "source": [
    "import numpy as npy\n",
    "import pandas as pds\n",
    "import matplotlib.pyplot as mplt\n",
    "import seaborn as sbn\n",
    "%matplotlib inline\n",
    "\n",
    "train_data = pds.read_csv('trainDataSMOTE.csv')\n",
    "test_data = pds.read_csv('testData.csv')"
   ]
  },
  {
   "cell_type": "code",
   "execution_count": 2,
   "metadata": {},
   "outputs": [
    {
     "data": {
      "text/html": [
       "<div>\n",
       "<style scoped>\n",
       "    .dataframe tbody tr th:only-of-type {\n",
       "        vertical-align: middle;\n",
       "    }\n",
       "\n",
       "    .dataframe tbody tr th {\n",
       "        vertical-align: top;\n",
       "    }\n",
       "\n",
       "    .dataframe thead th {\n",
       "        text-align: right;\n",
       "    }\n",
       "</style>\n",
       "<table border=\"1\" class=\"dataframe\">\n",
       "  <thead>\n",
       "    <tr style=\"text-align: right;\">\n",
       "      <th></th>\n",
       "      <th>sysBP</th>\n",
       "      <th>glucose</th>\n",
       "      <th>age</th>\n",
       "      <th>totChol</th>\n",
       "      <th>male</th>\n",
       "      <th>diaBP</th>\n",
       "      <th>prevalentHyp</th>\n",
       "      <th>diabetes</th>\n",
       "      <th>BPMeds</th>\n",
       "      <th>cigsPerDay</th>\n",
       "      <th>TenYearCHD</th>\n",
       "    </tr>\n",
       "  </thead>\n",
       "  <tbody>\n",
       "    <tr>\n",
       "      <th>0</th>\n",
       "      <td>129.0</td>\n",
       "      <td>70.0</td>\n",
       "      <td>59.0</td>\n",
       "      <td>310.0</td>\n",
       "      <td>0.0</td>\n",
       "      <td>70.0</td>\n",
       "      <td>0.0</td>\n",
       "      <td>0.0</td>\n",
       "      <td>0.0</td>\n",
       "      <td>0.0</td>\n",
       "      <td>0.0</td>\n",
       "    </tr>\n",
       "    <tr>\n",
       "      <th>1</th>\n",
       "      <td>123.0</td>\n",
       "      <td>62.0</td>\n",
       "      <td>39.0</td>\n",
       "      <td>214.0</td>\n",
       "      <td>0.0</td>\n",
       "      <td>78.0</td>\n",
       "      <td>0.0</td>\n",
       "      <td>0.0</td>\n",
       "      <td>0.0</td>\n",
       "      <td>0.0</td>\n",
       "      <td>0.0</td>\n",
       "    </tr>\n",
       "    <tr>\n",
       "      <th>2</th>\n",
       "      <td>122.0</td>\n",
       "      <td>75.0</td>\n",
       "      <td>44.0</td>\n",
       "      <td>187.0</td>\n",
       "      <td>0.0</td>\n",
       "      <td>83.0</td>\n",
       "      <td>1.0</td>\n",
       "      <td>0.0</td>\n",
       "      <td>0.0</td>\n",
       "      <td>0.0</td>\n",
       "      <td>0.0</td>\n",
       "    </tr>\n",
       "    <tr>\n",
       "      <th>3</th>\n",
       "      <td>123.0</td>\n",
       "      <td>82.0</td>\n",
       "      <td>38.0</td>\n",
       "      <td>256.0</td>\n",
       "      <td>1.0</td>\n",
       "      <td>92.0</td>\n",
       "      <td>1.0</td>\n",
       "      <td>0.0</td>\n",
       "      <td>0.0</td>\n",
       "      <td>0.0</td>\n",
       "      <td>0.0</td>\n",
       "    </tr>\n",
       "    <tr>\n",
       "      <th>4</th>\n",
       "      <td>151.0</td>\n",
       "      <td>90.0</td>\n",
       "      <td>58.0</td>\n",
       "      <td>241.0</td>\n",
       "      <td>1.0</td>\n",
       "      <td>102.0</td>\n",
       "      <td>1.0</td>\n",
       "      <td>0.0</td>\n",
       "      <td>0.0</td>\n",
       "      <td>0.0</td>\n",
       "      <td>0.0</td>\n",
       "    </tr>\n",
       "    <tr>\n",
       "      <th>5</th>\n",
       "      <td>121.5</td>\n",
       "      <td>94.0</td>\n",
       "      <td>40.0</td>\n",
       "      <td>201.0</td>\n",
       "      <td>1.0</td>\n",
       "      <td>76.5</td>\n",
       "      <td>0.0</td>\n",
       "      <td>0.0</td>\n",
       "      <td>0.0</td>\n",
       "      <td>20.0</td>\n",
       "      <td>0.0</td>\n",
       "    </tr>\n",
       "    <tr>\n",
       "      <th>6</th>\n",
       "      <td>143.0</td>\n",
       "      <td>73.0</td>\n",
       "      <td>64.0</td>\n",
       "      <td>239.0</td>\n",
       "      <td>0.0</td>\n",
       "      <td>84.0</td>\n",
       "      <td>1.0</td>\n",
       "      <td>0.0</td>\n",
       "      <td>0.0</td>\n",
       "      <td>6.0</td>\n",
       "      <td>0.0</td>\n",
       "    </tr>\n",
       "    <tr>\n",
       "      <th>7</th>\n",
       "      <td>99.0</td>\n",
       "      <td>67.0</td>\n",
       "      <td>41.0</td>\n",
       "      <td>159.0</td>\n",
       "      <td>0.0</td>\n",
       "      <td>62.0</td>\n",
       "      <td>0.0</td>\n",
       "      <td>0.0</td>\n",
       "      <td>0.0</td>\n",
       "      <td>2.0</td>\n",
       "      <td>0.0</td>\n",
       "    </tr>\n",
       "    <tr>\n",
       "      <th>8</th>\n",
       "      <td>140.0</td>\n",
       "      <td>70.0</td>\n",
       "      <td>55.0</td>\n",
       "      <td>219.0</td>\n",
       "      <td>0.0</td>\n",
       "      <td>93.0</td>\n",
       "      <td>1.0</td>\n",
       "      <td>0.0</td>\n",
       "      <td>0.0</td>\n",
       "      <td>0.0</td>\n",
       "      <td>0.0</td>\n",
       "    </tr>\n",
       "    <tr>\n",
       "      <th>9</th>\n",
       "      <td>138.0</td>\n",
       "      <td>70.6</td>\n",
       "      <td>46.0</td>\n",
       "      <td>259.0</td>\n",
       "      <td>0.0</td>\n",
       "      <td>88.0</td>\n",
       "      <td>0.0</td>\n",
       "      <td>0.0</td>\n",
       "      <td>0.0</td>\n",
       "      <td>0.0</td>\n",
       "      <td>0.0</td>\n",
       "    </tr>\n",
       "  </tbody>\n",
       "</table>\n",
       "</div>"
      ],
      "text/plain": [
       "   sysBP  glucose   age  totChol  male  diaBP  prevalentHyp  diabetes  BPMeds  \\\n",
       "0  129.0     70.0  59.0    310.0   0.0   70.0           0.0       0.0     0.0   \n",
       "1  123.0     62.0  39.0    214.0   0.0   78.0           0.0       0.0     0.0   \n",
       "2  122.0     75.0  44.0    187.0   0.0   83.0           1.0       0.0     0.0   \n",
       "3  123.0     82.0  38.0    256.0   1.0   92.0           1.0       0.0     0.0   \n",
       "4  151.0     90.0  58.0    241.0   1.0  102.0           1.0       0.0     0.0   \n",
       "5  121.5     94.0  40.0    201.0   1.0   76.5           0.0       0.0     0.0   \n",
       "6  143.0     73.0  64.0    239.0   0.0   84.0           1.0       0.0     0.0   \n",
       "7   99.0     67.0  41.0    159.0   0.0   62.0           0.0       0.0     0.0   \n",
       "8  140.0     70.0  55.0    219.0   0.0   93.0           1.0       0.0     0.0   \n",
       "9  138.0     70.6  46.0    259.0   0.0   88.0           0.0       0.0     0.0   \n",
       "\n",
       "   cigsPerDay  TenYearCHD  \n",
       "0         0.0         0.0  \n",
       "1         0.0         0.0  \n",
       "2         0.0         0.0  \n",
       "3         0.0         0.0  \n",
       "4         0.0         0.0  \n",
       "5        20.0         0.0  \n",
       "6         6.0         0.0  \n",
       "7         2.0         0.0  \n",
       "8         0.0         0.0  \n",
       "9         0.0         0.0  "
      ]
     },
     "execution_count": 2,
     "metadata": {},
     "output_type": "execute_result"
    }
   ],
   "source": [
    "train_dataF = train_data[['sysBP', 'glucose', 'age', 'totChol', 'male', 'diaBP', 'prevalentHyp', 'diabetes', 'BPMeds', 'cigsPerDay', 'TenYearCHD']]\n",
    "test_dataF =  test_data[['sysBP', 'glucose', 'age', 'totChol', 'male', 'diaBP', 'prevalentHyp', 'diabetes', 'BPMeds', 'cigsPerDay', 'TenYearCHD']]\n",
    "test_dataF.head(10)"
   ]
  },
  {
   "cell_type": "code",
   "execution_count": 3,
   "metadata": {},
   "outputs": [],
   "source": [
    "train_input = train_dataF.iloc[:,0:10]\n",
    "train_label = train_dataF.iloc[:,-1]\n",
    "test_input = test_dataF.iloc[:,0:10]\n",
    "test_label = test_dataF.iloc[:,-1]"
   ]
  },
  {
   "cell_type": "code",
   "execution_count": 4,
   "metadata": {},
   "outputs": [],
   "source": [
    "from sklearn.linear_model import LogisticRegression\n",
    "logistic_model = LogisticRegression(solver = 'liblinear')\n",
    "logistic_model.fit(train_input, train_label)\n",
    "logistic_predicts = logistic_model.predict(test_input)"
   ]
  },
  {
   "cell_type": "code",
   "execution_count": 5,
   "metadata": {},
   "outputs": [
    {
     "name": "stdout",
     "output_type": "stream",
     "text": [
      "Logistic Regression \n",
      "Test accuracy :  0.6698113207547169 \n",
      "Train accuracy :  0.6686661961891319\n"
     ]
    }
   ],
   "source": [
    "accuracy = logistic_model.score(test_input, test_label)\n",
    "accuracyt = logistic_model.score(train_input, train_label)\n",
    "print('Logistic Regression \\nTest accuracy : ', accuracy, '\\nTrain accuracy : ', accuracyt)"
   ]
  },
  {
   "cell_type": "code",
   "execution_count": null,
   "metadata": {},
   "outputs": [],
   "source": [
    "from sklearn.svm import SVC\n",
    "\n",
    "svm_model = SVC(kernel = 'linear', probability = True)\n",
    "\n",
    "svm_model.fit(train_input, train_label)\n",
    "svm_predicts = svm_model.predict(test_input)"
   ]
  },
  {
   "cell_type": "code",
   "execution_count": null,
   "metadata": {},
   "outputs": [],
   "source": [
    "accu_svm = svm_model.score(test_input, test_label)\n",
    "accut_svm = svm_model.score(train_input, train_label)\n",
    "print('Support Vector Models \\nTrain accuracy : ', accut_svm, '\\nTest accuracy : ', accu_svm)"
   ]
  },
  {
   "cell_type": "code",
   "execution_count": 6,
   "metadata": {},
   "outputs": [],
   "source": [
    "from sklearn.neighbors import KNeighborsClassifier\n",
    "\n",
    "k1_model = KNeighborsClassifier(n_neighbors = 1, metric = 'manhattan').fit(train_input, train_label)\n",
    "k5_model = KNeighborsClassifier(n_neighbors = 5, metric = 'manhattan').fit(train_input, train_label)\n",
    "k10_model = KNeighborsClassifier(n_neighbors = 10, metric = 'manhattan').fit(train_input, train_label)\n",
    "\n",
    "k1_predicts = k1_model.predict(test_input)\n",
    "k5_predicts = k5_model.predict(test_input)\n",
    "k10_predicts = k10_model.predict(test_input)"
   ]
  },
  {
   "cell_type": "code",
   "execution_count": 7,
   "metadata": {},
   "outputs": [
    {
     "name": "stdout",
     "output_type": "stream",
     "text": [
      "Test accuracy \n",
      "KNN 1 :  0.722877358490566 \n",
      "KNN 5 :  0.6627358490566038 \n",
      "KNN 10 :  0.6851415094339622\n"
     ]
    }
   ],
   "source": [
    "accu_knn1 = k1_model.score(test_input, test_label)\n",
    "accu_knn5 = k5_model.score(test_input, test_label)\n",
    "accu_knn10 = k10_model.score(test_input, test_label)\n",
    "print('Test accuracy \\nKNN 1 : ', accu_knn1, '\\nKNN 5 : ', accu_knn5, '\\nKNN 10 : ', accu_knn10)"
   ]
  },
  {
   "cell_type": "code",
   "execution_count": 8,
   "metadata": {},
   "outputs": [
    {
     "name": "stdout",
     "output_type": "stream",
     "text": [
      "Naive Bayes \n",
      "Train accuracy :  0.6070924488355681 \n",
      "Test accuracy :  0.785377358490566\n"
     ]
    }
   ],
   "source": [
    "from sklearn.naive_bayes import GaussianNB\n",
    "\n",
    "nb_model = GaussianNB()\n",
    "nb_model.fit(train_input, train_label)\n",
    "\n",
    "nb_predicts = nb_model.predict(test_input)\n",
    "accu_nb = nb_model.score(test_input, test_label)\n",
    "accut_nb = nb_model.score(train_input, train_label)\n",
    "print('Naive Bayes \\nTrain accuracy : ', accut_nb, '\\nTest accuracy : ', accu_nb)"
   ]
  },
  {
   "cell_type": "code",
   "execution_count": 9,
   "metadata": {},
   "outputs": [
    {
     "name": "stdout",
     "output_type": "stream",
     "text": [
      "Decision Tree\n",
      "Train accuracy :  0.6733490566037735 \n",
      "Test accuracy :  0.6889555398729711\n"
     ]
    }
   ],
   "source": [
    "from sklearn.tree import DecisionTreeClassifier\n",
    "\n",
    "DTC_model = DecisionTreeClassifier(criterion = 'entropy', max_depth = 5)\n",
    "DTC_model.fit(train_input, train_label)\n",
    "DTC_predicts = DTC_model.predict(test_input)\n",
    "accu_dtc = DTC_model.score(test_input, test_label)\n",
    "accut_dtc = DTC_model.score(train_input, train_label)\n",
    "print('Decision Tree\\nTrain accuracy : ', accu_dtc, '\\nTest accuracy : ', accut_dtc)"
   ]
  },
  {
   "cell_type": "code",
   "execution_count": 10,
   "metadata": {},
   "outputs": [
    {
     "name": "stdout",
     "output_type": "stream",
     "text": [
      "0.7594339622641509\n",
      "0.7577628793225123\n"
     ]
    }
   ],
   "source": [
    "from sklearn.ensemble import VotingClassifier\n",
    "\n",
    "vc_model = VotingClassifier(estimators=[('1', k10_model), ('2', DTC_model), ('3', nb_model)], voting='soft')\n",
    "vc_model.fit(train_input, train_label)\n",
    "print(vc_model.score(test_input, test_label))\n",
    "print(vc_model.score(train_input, train_label))"
   ]
  },
  {
   "cell_type": "code",
   "execution_count": null,
   "metadata": {},
   "outputs": [],
   "source": []
  }
 ],
 "metadata": {
  "kernelspec": {
   "display_name": "Python 3",
   "language": "python",
   "name": "python3"
  },
  "language_info": {
   "codemirror_mode": {
    "name": "ipython",
    "version": 3
   },
   "file_extension": ".py",
   "mimetype": "text/x-python",
   "name": "python",
   "nbconvert_exporter": "python",
   "pygments_lexer": "ipython3",
   "version": "3.7.5"
  }
 },
 "nbformat": 4,
 "nbformat_minor": 2
}
