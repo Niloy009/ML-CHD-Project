{
 "cells": [
  {
   "cell_type": "code",
   "execution_count": 2,
   "metadata": {},
   "outputs": [],
   "source": [
    "#matrix[1][1] = True Positive\n",
    "#matrix[1][0] = False Negative\n",
    "#matrix[0][1] = False Positive\n",
    "#matrix[0][0] = True Negative\n",
    "def model_evaluation(matrix):\n",
    "    precision = matrix[1][1] / (matrix[1][1] + matrix[0][1])\n",
    "    recall = matrix[1][1] / (matrix[1][1] + matrix[1][0])\n",
    "    F_measure = (2 * precision * recall) / (precision + recall)\n",
    "    evaluationMetric = [['Precision', precision],['Recall', recall], ['F-Measure', F_measure]]\n",
    "    return evaluationMetric\n",
    "\n",
    "def model_cost(matrix):\n",
    "    cost = [[0,1],[100,-1]]\n",
    "    tot_cost = (matrix[0][0]*cost[0][0])+(matrix[0][1]*cost[0][1])+(matrix[1][0]*cost[1][0])+(matrix[1][1]*cost[1][1])\n",
    "    return tot_cost"
   ]
  },
  {
   "cell_type": "code",
   "execution_count": 1,
   "metadata": {},
   "outputs": [],
   "source": []
  },
  {
   "cell_type": "code",
   "execution_count": null,
   "metadata": {},
   "outputs": [],
   "source": []
  }
 ],
 "metadata": {
  "kernelspec": {
   "display_name": "Python 3",
   "language": "python",
   "name": "python3"
  },
  "language_info": {
   "codemirror_mode": {
    "name": "ipython",
    "version": 3
   },
   "file_extension": ".py",
   "mimetype": "text/x-python",
   "name": "python",
   "nbconvert_exporter": "python",
   "pygments_lexer": "ipython3",
   "version": "3.7.5"
  }
 },
 "nbformat": 4,
 "nbformat_minor": 2
}
