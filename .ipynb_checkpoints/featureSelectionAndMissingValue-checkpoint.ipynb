{
 "cells": [
  {
   "cell_type": "code",
   "execution_count": null,
   "metadata": {},
   "outputs": [],
   "source": [
    "import numpy as npy\n",
    "import pandas as pds\n",
    "import matplotlib.pyplot as mplt\n",
    "import seaborn as sbn\n",
    "from fancyimpute import KNN\n",
    "from sklearn.preprocessing import StandardScaler as stl\n",
    "%matplotlib inline\n",
    "\n",
    "my_data = pds.read_csv('framingham.csv')\n",
    "my_data.describe()"
   ]
  },
  {
   "cell_type": "code",
   "execution_count": null,
   "metadata": {},
   "outputs": [],
   "source": [
    "duplicate_data = my_data[my_data.duplicated()]\n",
    "duplicate_data.head()"
   ]
  },
  {
   "cell_type": "code",
   "execution_count": null,
   "metadata": {},
   "outputs": [],
   "source": [
    "print(my_data.shape)\n",
    "my_data.isna().sum()"
   ]
  },
  {
   "cell_type": "code",
   "execution_count": null,
   "metadata": {},
   "outputs": [],
   "source": [
    "columns = my_data.columns\n",
    "my_data.isna()"
   ]
  },
  {
   "cell_type": "code",
   "execution_count": null,
   "metadata": {},
   "outputs": [],
   "source": [
    "my_data = KNN(k=5).fit_transform(my_data)\n",
    "#npy.savetxt('value.csv', my_data, delimiter=',', fmt='%0.1f', newline='\\n')"
   ]
  },
  {
   "cell_type": "code",
   "execution_count": 17,
   "metadata": {},
   "outputs": [
    {
     "data": {
      "text/plain": [
       "male               0\n",
       "age                0\n",
       "education          0\n",
       "currentSmoker      0\n",
       "cigsPerDay         0\n",
       "BPMeds             0\n",
       "prevalentStroke    0\n",
       "prevalentHyp       0\n",
       "diabetes           0\n",
       "totChol            0\n",
       "sysBP              0\n",
       "diaBP              0\n",
       "BMI                0\n",
       "heartRate          0\n",
       "glucose            0\n",
       "TenYearCHD         0\n",
       "dtype: int64"
      ]
     },
     "execution_count": 17,
     "metadata": {},
     "output_type": "execute_result"
    }
   ],
   "source": [
    "my_data = pds.DataFrame(my_data, columns =columns )\n",
    "my_data.isna().sum()"
   ]
  },
  {
   "cell_type": "code",
   "execution_count": null,
   "metadata": {},
   "outputs": [],
   "source": [
    "'''\n",
    "from sklearn.model_selection import train_test_split\n",
    "train_input, test_input, train_label, test_label = train_test_split(attributes, class_value, test_size=0.20, random_state = 0)\n",
    "train_data = pds.concat([train_input, train_label], axis = 1)\n",
    "test_data = pds.concat([test_input, test_label], axis = 1)\n",
    "npy.savetxt('trainData.csv', train_data, delimiter=',', fmt='%0.1f', newline='\\n')\n",
    "npy.savetxt('testData.csv', test_data, delimiter=',', fmt='%0.1f', newline='\\n')\n",
    "'''"
   ]
  },
  {
   "cell_type": "code",
   "execution_count": 18,
   "metadata": {},
   "outputs": [
    {
     "data": {
      "text/html": [
       "<div>\n",
       "<style scoped>\n",
       "    .dataframe tbody tr th:only-of-type {\n",
       "        vertical-align: middle;\n",
       "    }\n",
       "\n",
       "    .dataframe tbody tr th {\n",
       "        vertical-align: top;\n",
       "    }\n",
       "\n",
       "    .dataframe thead th {\n",
       "        text-align: right;\n",
       "    }\n",
       "</style>\n",
       "<table border=\"1\" class=\"dataframe\">\n",
       "  <thead>\n",
       "    <tr style=\"text-align: right;\">\n",
       "      <th></th>\n",
       "      <th>Name</th>\n",
       "      <th>Score</th>\n",
       "    </tr>\n",
       "  </thead>\n",
       "  <tbody>\n",
       "    <tr>\n",
       "      <th>10</th>\n",
       "      <td>sysBP</td>\n",
       "      <td>727.935535</td>\n",
       "    </tr>\n",
       "    <tr>\n",
       "      <th>14</th>\n",
       "      <td>glucose</td>\n",
       "      <td>419.294095</td>\n",
       "    </tr>\n",
       "    <tr>\n",
       "      <th>1</th>\n",
       "      <td>age</td>\n",
       "      <td>319.266019</td>\n",
       "    </tr>\n",
       "    <tr>\n",
       "      <th>9</th>\n",
       "      <td>totChol</td>\n",
       "      <td>230.768478</td>\n",
       "    </tr>\n",
       "    <tr>\n",
       "      <th>4</th>\n",
       "      <td>cigsPerDay</td>\n",
       "      <td>223.099019</td>\n",
       "    </tr>\n",
       "    <tr>\n",
       "      <th>11</th>\n",
       "      <td>diaBP</td>\n",
       "      <td>152.748563</td>\n",
       "    </tr>\n",
       "    <tr>\n",
       "      <th>7</th>\n",
       "      <td>prevalentHyp</td>\n",
       "      <td>92.048736</td>\n",
       "    </tr>\n",
       "    <tr>\n",
       "      <th>8</th>\n",
       "      <td>diabetes</td>\n",
       "      <td>39.144944</td>\n",
       "    </tr>\n",
       "    <tr>\n",
       "      <th>5</th>\n",
       "      <td>BPMeds</td>\n",
       "      <td>32.465649</td>\n",
       "    </tr>\n",
       "    <tr>\n",
       "      <th>0</th>\n",
       "      <td>male</td>\n",
       "      <td>18.899930</td>\n",
       "    </tr>\n",
       "    <tr>\n",
       "      <th>6</th>\n",
       "      <td>prevalentStroke</td>\n",
       "      <td>16.109887</td>\n",
       "    </tr>\n",
       "    <tr>\n",
       "      <th>12</th>\n",
       "      <td>BMI</td>\n",
       "      <td>15.421428</td>\n",
       "    </tr>\n",
       "    <tr>\n",
       "      <th>2</th>\n",
       "      <td>education</td>\n",
       "      <td>6.337376</td>\n",
       "    </tr>\n",
       "    <tr>\n",
       "      <th>13</th>\n",
       "      <td>heartRate</td>\n",
       "      <td>4.295401</td>\n",
       "    </tr>\n",
       "    <tr>\n",
       "      <th>3</th>\n",
       "      <td>currentSmoker</td>\n",
       "      <td>0.811334</td>\n",
       "    </tr>\n",
       "  </tbody>\n",
       "</table>\n",
       "</div>"
      ],
      "text/plain": [
       "               Name       Score\n",
       "10            sysBP  727.935535\n",
       "14          glucose  419.294095\n",
       "1               age  319.266019\n",
       "9           totChol  230.768478\n",
       "4        cigsPerDay  223.099019\n",
       "11            diaBP  152.748563\n",
       "7      prevalentHyp   92.048736\n",
       "8          diabetes   39.144944\n",
       "5            BPMeds   32.465649\n",
       "0              male   18.899930\n",
       "6   prevalentStroke   16.109887\n",
       "12              BMI   15.421428\n",
       "2         education    6.337376\n",
       "13        heartRate    4.295401\n",
       "3     currentSmoker    0.811334"
      ]
     },
     "execution_count": 18,
     "metadata": {},
     "output_type": "execute_result"
    }
   ],
   "source": [
    "from sklearn.feature_selection import SelectKBest as skb\n",
    "from sklearn.feature_selection import chi2\n",
    "\n",
    "attributes = my_data.iloc[:,0:15]\n",
    "target_class = my_data.iloc[:,-1]\n",
    "\n",
    "obj = skb(score_func=chi2)\n",
    "values = obj.fit(attributes,target_class)\n",
    "data_scores = pds.DataFrame(values.scores_)\n",
    "data_columns = pds.DataFrame(attributes.columns)\n",
    "\n",
    "attributes_scores = pds.concat([data_columns,data_scores],axis=1)\n",
    "attributes_scores.columns = ['Name','Score']\n",
    "attributes_scores = attributes_scores.sort_values(by='Score', ascending = False)\n",
    "attributes_scores\n",
    "#final_attributes = skb(chi2, k=10).fit_transform(attributes, target_class)\n",
    "#print(final_attributes.shape,' ',final_attributes[0:10])"
   ]
  },
  {
   "cell_type": "code",
   "execution_count": 19,
   "metadata": {},
   "outputs": [
    {
     "data": {
      "text/plain": [
       "<Figure size 432x288 with 0 Axes>"
      ]
     },
     "metadata": {},
     "output_type": "display_data"
    },
    {
     "data": {
      "image/png": "[encoded data removed]",
      "text/plain": [
       "<Figure size 360x720 with 1 Axes>"
      ]
     },
     "metadata": {
      "needs_background": "light"
     },
     "output_type": "display_data"
    }
   ],
   "source": [
    "mplt.cla()\n",
    "mplt.clf()\n",
    "mplt.figure(figsize=(5,10))\n",
    "sbn.barplot(x='Score', y='Name', data=attributes_scores)\n",
    "mplt.title('Feature importance', fontsize=18)\n",
    "mplt.xlabel('Importance\\n ', fontsize=15)\n",
    "mplt.ylabel('Features \\n', fontsize=15)\n",
    "mplt.rc('axes', labelsize=10)\n",
    "mplt.show()"
   ]
  },
  {
   "cell_type": "code",
   "execution_count": 20,
   "metadata": {},
   "outputs": [
    {
     "name": "stdout",
     "output_type": "stream",
     "text": [
      "                 TenYearCHD\n",
      "TenYearCHD         1.000000\n",
      "age                0.225408\n",
      "sysBP              0.216374\n",
      "prevalentHyp       0.177458\n",
      "diaBP              0.145112\n",
      "glucose            0.123801\n",
      "diabetes           0.097344\n",
      "BPMeds             0.089355\n",
      "male               0.088374\n",
      "totChol            0.080904\n",
      "BMI                0.075232\n",
      "prevalentStroke    0.061823\n",
      "cigsPerDay         0.057915\n",
      "heartRate          0.023061\n",
      "currentSmoker      0.019448\n",
      "education         -0.053840\n"
     ]
    },
    {
     "data": {
      "text/plain": [
       "<Figure size 432x288 with 0 Axes>"
      ]
     },
     "metadata": {},
     "output_type": "display_data"
    },
    {
     "data": {
      "image/png": "[encoded data removed]",
      "text/plain": [
       "<Figure size 144x1080 with 2 Axes>"
      ]
     },
     "metadata": {
      "needs_background": "light"
     },
     "output_type": "display_data"
    }
   ],
   "source": [
    "mplt.cla()\n",
    "mplt.clf()\n",
    "corrmat = my_data.corr()\n",
    "c = pds.DataFrame(corrmat.iloc[:,-1])\n",
    "print(c.sort_values(by = 'TenYearCHD', ascending = False))\n",
    "mplt.figure(figsize=(2,15))\n",
    "sbn.heatmap(c.sort_values(by = 'TenYearCHD', ascending = False), annot = True, fmt = '.2g')\n",
    "mplt.savefig('featureCorre.png')"
   ]
  },
  {
   "cell_type": "code",
   "execution_count": 21,
   "metadata": {},
   "outputs": [
    {
     "data": {
      "text/html": [
       "<div>\n",
       "<style scoped>\n",
       "    .dataframe tbody tr th:only-of-type {\n",
       "        vertical-align: middle;\n",
       "    }\n",
       "\n",
       "    .dataframe tbody tr th {\n",
       "        vertical-align: top;\n",
       "    }\n",
       "\n",
       "    .dataframe thead th {\n",
       "        text-align: right;\n",
       "    }\n",
       "</style>\n",
       "<table border=\"1\" class=\"dataframe\">\n",
       "  <thead>\n",
       "    <tr style=\"text-align: right;\">\n",
       "      <th></th>\n",
       "      <th>sysBP</th>\n",
       "      <th>glucose</th>\n",
       "      <th>age</th>\n",
       "      <th>totChol</th>\n",
       "      <th>male</th>\n",
       "      <th>diaBP</th>\n",
       "      <th>prevalentHyp</th>\n",
       "      <th>diabetes</th>\n",
       "      <th>BPMeds</th>\n",
       "      <th>cigsPerDay</th>\n",
       "      <th>TenYearCHD</th>\n",
       "    </tr>\n",
       "  </thead>\n",
       "  <tbody>\n",
       "    <tr>\n",
       "      <th>0</th>\n",
       "      <td>106.0</td>\n",
       "      <td>77.0</td>\n",
       "      <td>39.0</td>\n",
       "      <td>195.0</td>\n",
       "      <td>1.0</td>\n",
       "      <td>70.0</td>\n",
       "      <td>0.0</td>\n",
       "      <td>0.0</td>\n",
       "      <td>0.0</td>\n",
       "      <td>0.0</td>\n",
       "      <td>0.0</td>\n",
       "    </tr>\n",
       "    <tr>\n",
       "      <th>1</th>\n",
       "      <td>121.0</td>\n",
       "      <td>76.0</td>\n",
       "      <td>46.0</td>\n",
       "      <td>250.0</td>\n",
       "      <td>0.0</td>\n",
       "      <td>81.0</td>\n",
       "      <td>0.0</td>\n",
       "      <td>0.0</td>\n",
       "      <td>0.0</td>\n",
       "      <td>0.0</td>\n",
       "      <td>0.0</td>\n",
       "    </tr>\n",
       "    <tr>\n",
       "      <th>2</th>\n",
       "      <td>127.5</td>\n",
       "      <td>70.0</td>\n",
       "      <td>48.0</td>\n",
       "      <td>245.0</td>\n",
       "      <td>1.0</td>\n",
       "      <td>80.0</td>\n",
       "      <td>0.0</td>\n",
       "      <td>0.0</td>\n",
       "      <td>0.0</td>\n",
       "      <td>20.0</td>\n",
       "      <td>0.0</td>\n",
       "    </tr>\n",
       "    <tr>\n",
       "      <th>3</th>\n",
       "      <td>150.0</td>\n",
       "      <td>103.0</td>\n",
       "      <td>61.0</td>\n",
       "      <td>225.0</td>\n",
       "      <td>0.0</td>\n",
       "      <td>95.0</td>\n",
       "      <td>1.0</td>\n",
       "      <td>0.0</td>\n",
       "      <td>0.0</td>\n",
       "      <td>30.0</td>\n",
       "      <td>1.0</td>\n",
       "    </tr>\n",
       "    <tr>\n",
       "      <th>4</th>\n",
       "      <td>130.0</td>\n",
       "      <td>85.0</td>\n",
       "      <td>46.0</td>\n",
       "      <td>285.0</td>\n",
       "      <td>0.0</td>\n",
       "      <td>84.0</td>\n",
       "      <td>0.0</td>\n",
       "      <td>0.0</td>\n",
       "      <td>0.0</td>\n",
       "      <td>23.0</td>\n",
       "      <td>0.0</td>\n",
       "    </tr>\n",
       "    <tr>\n",
       "      <th>5</th>\n",
       "      <td>180.0</td>\n",
       "      <td>99.0</td>\n",
       "      <td>43.0</td>\n",
       "      <td>228.0</td>\n",
       "      <td>0.0</td>\n",
       "      <td>110.0</td>\n",
       "      <td>1.0</td>\n",
       "      <td>0.0</td>\n",
       "      <td>0.0</td>\n",
       "      <td>0.0</td>\n",
       "      <td>0.0</td>\n",
       "    </tr>\n",
       "    <tr>\n",
       "      <th>6</th>\n",
       "      <td>138.0</td>\n",
       "      <td>85.0</td>\n",
       "      <td>63.0</td>\n",
       "      <td>205.0</td>\n",
       "      <td>0.0</td>\n",
       "      <td>71.0</td>\n",
       "      <td>0.0</td>\n",
       "      <td>0.0</td>\n",
       "      <td>0.0</td>\n",
       "      <td>0.0</td>\n",
       "      <td>1.0</td>\n",
       "    </tr>\n",
       "    <tr>\n",
       "      <th>7</th>\n",
       "      <td>100.0</td>\n",
       "      <td>78.0</td>\n",
       "      <td>45.0</td>\n",
       "      <td>313.0</td>\n",
       "      <td>0.0</td>\n",
       "      <td>71.0</td>\n",
       "      <td>0.0</td>\n",
       "      <td>0.0</td>\n",
       "      <td>0.0</td>\n",
       "      <td>20.0</td>\n",
       "      <td>0.0</td>\n",
       "    </tr>\n",
       "    <tr>\n",
       "      <th>8</th>\n",
       "      <td>141.5</td>\n",
       "      <td>79.0</td>\n",
       "      <td>52.0</td>\n",
       "      <td>260.0</td>\n",
       "      <td>1.0</td>\n",
       "      <td>89.0</td>\n",
       "      <td>1.0</td>\n",
       "      <td>0.0</td>\n",
       "      <td>0.0</td>\n",
       "      <td>0.0</td>\n",
       "      <td>0.0</td>\n",
       "    </tr>\n",
       "    <tr>\n",
       "      <th>9</th>\n",
       "      <td>162.0</td>\n",
       "      <td>88.0</td>\n",
       "      <td>43.0</td>\n",
       "      <td>225.0</td>\n",
       "      <td>1.0</td>\n",
       "      <td>107.0</td>\n",
       "      <td>1.0</td>\n",
       "      <td>0.0</td>\n",
       "      <td>0.0</td>\n",
       "      <td>30.0</td>\n",
       "      <td>0.0</td>\n",
       "    </tr>\n",
       "  </tbody>\n",
       "</table>\n",
       "</div>"
      ],
      "text/plain": [
       "   sysBP  glucose   age  totChol  male  diaBP  prevalentHyp  diabetes  BPMeds  \\\n",
       "0  106.0     77.0  39.0    195.0   1.0   70.0           0.0       0.0     0.0   \n",
       "1  121.0     76.0  46.0    250.0   0.0   81.0           0.0       0.0     0.0   \n",
       "2  127.5     70.0  48.0    245.0   1.0   80.0           0.0       0.0     0.0   \n",
       "3  150.0    103.0  61.0    225.0   0.0   95.0           1.0       0.0     0.0   \n",
       "4  130.0     85.0  46.0    285.0   0.0   84.0           0.0       0.0     0.0   \n",
       "5  180.0     99.0  43.0    228.0   0.0  110.0           1.0       0.0     0.0   \n",
       "6  138.0     85.0  63.0    205.0   0.0   71.0           0.0       0.0     0.0   \n",
       "7  100.0     78.0  45.0    313.0   0.0   71.0           0.0       0.0     0.0   \n",
       "8  141.5     79.0  52.0    260.0   1.0   89.0           1.0       0.0     0.0   \n",
       "9  162.0     88.0  43.0    225.0   1.0  107.0           1.0       0.0     0.0   \n",
       "\n",
       "   cigsPerDay  TenYearCHD  \n",
       "0         0.0         0.0  \n",
       "1         0.0         0.0  \n",
       "2        20.0         0.0  \n",
       "3        30.0         1.0  \n",
       "4        23.0         0.0  \n",
       "5         0.0         0.0  \n",
       "6         0.0         1.0  \n",
       "7        20.0         0.0  \n",
       "8         0.0         0.0  \n",
       "9        30.0         0.0  "
      ]
     },
     "execution_count": 21,
     "metadata": {},
     "output_type": "execute_result"
    }
   ],
   "source": [
    "my_data2 = my_data[['sysBP', 'glucose', 'age', 'totChol', 'male', 'diaBP', 'prevalentHyp', 'diabetes', 'BPMeds', 'cigsPerDay', 'TenYearCHD']]\n",
    "my_data2.head(10)"
   ]
  },
  {
   "cell_type": "code",
   "execution_count": null,
   "metadata": {},
   "outputs": [],
   "source": []
  }
 ],
 "metadata": {
  "kernelspec": {
   "display_name": "Python 3",
   "language": "python",
   "name": "python3"
  },
  "language_info": {
   "codemirror_mode": {
    "name": "ipython",
    "version": 3
   },
   "file_extension": ".py",
   "mimetype": "text/x-python",
   "name": "python",
   "nbconvert_exporter": "python",
   "pygments_lexer": "ipython3",
   "version": "3.7.5"
  }
 },
 "nbformat": 4,
 "nbformat_minor": 2
}
