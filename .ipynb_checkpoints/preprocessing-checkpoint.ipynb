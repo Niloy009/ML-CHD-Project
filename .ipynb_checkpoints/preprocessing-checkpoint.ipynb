{
 "cells": [
  {
   "cell_type": "code",
   "execution_count": null,
   "metadata": {},
   "outputs": [],
   "source": [
    "import numpy as npy\n",
    "import pandas as pds\n",
    "import matplotlib.pyplot as mplt\n",
    "import seaborn as sbn\n",
    "import scipy.stats as stats\n",
    "\n",
    "%matplotlib inline\n",
    "\n",
    "train_data = pds.read_csv('trainDataSMOTE.csv')\n",
    "train_data.head()"
   ]
  },
  {
   "cell_type": "code",
   "execution_count": null,
   "metadata": {},
   "outputs": [],
   "source": [
    "duplicate_data = train_data[train_data.duplicated()]\n",
    "duplicate_data.head()"
   ]
  },
  {
   "cell_type": "code",
   "execution_count": null,
   "metadata": {},
   "outputs": [],
   "source": [
    "'''train_data = train_data.drop_duplicates()\n",
    "columns =(train_data.columns)\n",
    "x = ''\n",
    "st = [x+y for y in columns]\n",
    "st = ','.join([str(elem) for elem in st])\n",
    "npy.savetxt('trainDataSMOTE.csv', train_data, delimiter=',', fmt='%f', newline='\\n', header = st)'''"
   ]
  },
  {
   "cell_type": "code",
   "execution_count": null,
   "metadata": {
    "scrolled": true
   },
   "outputs": [],
   "source": [
    "print(train_data.shape)\n",
    "train_data.isna().sum()"
   ]
  },
  {
   "cell_type": "code",
   "execution_count": null,
   "metadata": {},
   "outputs": [],
   "source": [
    "mplt.cla()\n",
    "mplt.clf()\n",
    "figure = mplt.figure(figsize = (15,20))\n",
    "axes = figure.gca()\n",
    "train_data.hist(ax = axes)\n",
    "#mplt.savefig('histimg.png')"
   ]
  },
  {
   "cell_type": "code",
   "execution_count": null,
   "metadata": {},
   "outputs": [],
   "source": [
    "mplt.cla()\n",
    "mplt.clf()\n",
    "sbn.pairplot(train_data)"
   ]
  },
  {
   "cell_type": "code",
   "execution_count": null,
   "metadata": {},
   "outputs": [],
   "source": [
    "train_data2 = train_data[['sysBP', 'glucose', 'age', 'totChol', 'male', 'diaBP', 'prevalentHyp', 'diabetes', 'BPMeds', 'cigsPerDay', 'TenYearCHD']]\n",
    "train_data2.head()"
   ]
  },
  {
   "cell_type": "code",
   "execution_count": null,
   "metadata": {},
   "outputs": [],
   "source": [
    "mplt.cla()\n",
    "mplt.clf()\n",
    "for y in train_data2.columns:\n",
    "    sbn.boxplot(x = 'TenYearCHD', y = y, data = train_data2, linewidth = 2.5)\n",
    "    #mplt.savefig('EMG {0}.png'.format(y))\n",
    "    mplt.show()"
   ]
  },
  {
   "cell_type": "code",
   "execution_count": null,
   "metadata": {},
   "outputs": [],
   "source": [
    "train_data2[(train_data2.sysBP>180)]\n",
    "train_data2 = train_data2[(train_data2.sysBP<=180)]"
   ]
  },
  {
   "cell_type": "code",
   "execution_count": null,
   "metadata": {
    "scrolled": true
   },
   "outputs": [],
   "source": [
    "train_data2[(train_data2.glucose<54)]\n",
    "train_data2[(train_data2.glucose>115)]\n",
    "train_data2 = train_data2[(train_data2.glucose>54) & (train_data2.glucose<=115)]"
   ]
  },
  {
   "cell_type": "code",
   "execution_count": null,
   "metadata": {},
   "outputs": [],
   "source": [
    "train_data2[(train_data2.totChol>355)]\n",
    "train_data2 = train_data2[train_data2.totChol<355]"
   ]
  },
  {
   "cell_type": "code",
   "execution_count": null,
   "metadata": {},
   "outputs": [],
   "source": [
    "train_data2[(train_data2.diaBP<55)]\n",
    "train_data2 = train_data2[(train_data2.diaBP>55) & (train_data2.diaBP<=110)]"
   ]
  },
  {
   "cell_type": "code",
   "execution_count": null,
   "metadata": {},
   "outputs": [],
   "source": [
    "train_data2[(train_data2.cigsPerDay>50)]\n",
    "train_data2 = train_data2[(train_data2.cigsPerDay<=50)]"
   ]
  },
  {
   "cell_type": "code",
   "execution_count": null,
   "metadata": {
    "scrolled": false
   },
   "outputs": [],
   "source": [
    "train_data2.reset_index(inplace=True, drop=True)\n",
    "train_data2"
   ]
  },
  {
   "cell_type": "code",
   "execution_count": null,
   "metadata": {},
   "outputs": [],
   "source": [
    "from collections import Counter\n",
    "counts = Counter(train_data2.TenYearCHD)\n",
    "counts"
   ]
  },
  {
   "cell_type": "code",
   "execution_count": null,
   "metadata": {},
   "outputs": [],
   "source": [
    "from sklearn.utils import shuffle\n",
    "train_data2 = shuffle(train_data2)"
   ]
  },
  {
   "cell_type": "code",
   "execution_count": null,
   "metadata": {},
   "outputs": [],
   "source": [
    "'''columns =(train_data2.columns)\n",
    "x = ''\n",
    "st = [x+y for y in columns]\n",
    "st = ','.join([str(elem) for elem in st])'''"
   ]
  },
  {
   "cell_type": "code",
   "execution_count": null,
   "metadata": {},
   "outputs": [],
   "source": [
    "#npy.savetxt('preprocessData.csv', train_data2, delimiter=',', fmt='%0.1f', newline='\\n',header = st)"
   ]
  },
  {
   "cell_type": "code",
   "execution_count": null,
   "metadata": {},
   "outputs": [],
   "source": [
    "test_data = pds.read_csv('preprocessData.csv')"
   ]
  },
  {
   "cell_type": "code",
   "execution_count": null,
   "metadata": {},
   "outputs": [],
   "source": [
    "mplt.cla()\n",
    "mplt.clf()\n",
    "for y in test_data.columns:\n",
    "    sbn.boxplot(x = 'TenYearCHD', y = y, data = test_data, linewidth = 2.5)\n",
    "    #mplt.savefig('EMG {0}.png'.format(y))\n",
    "    mplt.show()"
   ]
  },
  {
   "cell_type": "code",
   "execution_count": null,
   "metadata": {},
   "outputs": [],
   "source": [
    "test_data.shape"
   ]
  },
  {
   "cell_type": "code",
   "execution_count": null,
   "metadata": {},
   "outputs": [],
   "source": []
  }
 ],
 "metadata": {
  "kernelspec": {
   "display_name": "Python 3",
   "language": "python",
   "name": "python3"
  },
  "language_info": {
   "codemirror_mode": {
    "name": "ipython",
    "version": 3
   },
   "file_extension": ".py",
   "mimetype": "text/x-python",
   "name": "python",
   "nbconvert_exporter": "python",
   "pygments_lexer": "ipython3",
   "version": "3.7.5"
  }
 },
 "nbformat": 4,
 "nbformat_minor": 2
}
